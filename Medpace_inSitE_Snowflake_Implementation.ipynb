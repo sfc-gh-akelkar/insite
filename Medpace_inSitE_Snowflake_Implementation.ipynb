{
  "cells": [
    {
      "cell_type": "markdown",
      "metadata": {},
      "source": [
        "# Medpace inSitE Optimization - Snowflake Implementation\n",
        "\n",
        "This notebook contains Snowflake optimization techniques to improve performance of the **inSitE** (Informatics Site Engine) application by pushing compute to Snowflake.\n",
        "\n",
        "## 🎯 Optimization Goals\n",
        "\n",
        "**Current State:**\n",
        "- 16M rows (730 MB) loaded into R per analysis\n",
        "- 2-3 GB memory per session\n",
        "- 3-6 minutes per analysis\n",
        "\n",
        "**After Optimization:**\n",
        "- <5 MB data transfer per query\n",
        "- 100-200 MB memory per session  \n",
        "- 15-25 seconds per analysis\n",
        "\n",
        "## 📋 Architecture\n",
        "\n",
        "1. **Dynamic Tables** - Pre-computed metrics (refreshes hourly)\n",
        "2. **SQL Functions** - User-specific filtering\n",
        "3. **Stored Procedures** - ML models and simulations\n",
        "\n",
        "## ⚙️ Prerequisites\n",
        "\n",
        "- Role with CREATE DYNAMIC TABLE, CREATE FUNCTION, CREATE PROCEDURE privileges\n",
        "- Access to source tables in `SOURCE` database\n",
        "- USAGE privilege on `CLINOPS_ADHOC` warehouse\n",
        "\n",
        "---\n"
      ]
    },
    {
      "cell_type": "markdown",
      "metadata": {},
      "source": [
        "# Step 1: Environment Setup\n",
        "\n",
        "Before creating Dynamic Tables, we must:\n",
        "1. **Enable change tracking** on base tables (required for incremental refresh)\n",
        "2. **Create dedicated warehouse** for Dynamic Table refreshes\n",
        "\n",
        "## Why Change Tracking?\n",
        "Dynamic Tables use change tracking to detect which rows changed since last refresh, enabling efficient **incremental processing** instead of full table scans.\n",
        "\n",
        "## Why Dedicated Warehouse?\n",
        "Isolates compute costs for automatic refreshes, making it easier to monitor and optimize Dynamic Table performance separately from user queries.\n"
      ]
    },
    {
      "cell_type": "code",
      "execution_count": null,
      "metadata": {
        "vscode": {
          "languageId": "sql"
        }
      },
      "outputs": [],
      "source": [
        "-- Set context\n",
        "USE ROLE ACCOUNTADMIN; -- Adjust to appropriate role\n",
        "USE WAREHOUSE CLINOPS_ADHOC;\n",
        "USE DATABASE SOURCE;\n",
        "USE SCHEMA FEASIBILITY;\n"
      ]
    },
    {
      "cell_type": "code",
      "execution_count": null,
      "metadata": {
        "vscode": {
          "languageId": "sql"
        }
      },
      "outputs": [],
      "source": [
        "-- Enable change tracking on base tables\n",
        "ALTER TABLE SOURCE.CLINTRAKSTUDYMANAGEMENT_CLINTRAKPROXY.STUDYSITE \n",
        "    SET CHANGE_TRACKING = TRUE;\n",
        "\n",
        "ALTER TABLE SOURCE.CLINTRAKSTUDYMANAGEMENT_CLINTRAKPROXY.STUDYSITEMETRICSCALCULATED \n",
        "    SET CHANGE_TRACKING = TRUE;\n",
        "\n",
        "ALTER TABLE SOURCE.CLINTRAKSTUDYMANAGEMENT_CLINTRAKPROXY.PATIENT \n",
        "    SET CHANGE_TRACKING = TRUE;\n",
        "\n",
        "ALTER TABLE SOURCE.CLINTRAKSTUDYMANAGEMENT_CLINTRAKPROXY.SITE \n",
        "    SET CHANGE_TRACKING = TRUE;\n",
        "\n",
        "ALTER TABLE SOURCE.CITELINE_ORGANIZATIONTRIAL.ORGANIZATIONTRIALS \n",
        "    SET CHANGE_TRACKING = TRUE;\n",
        "\n",
        "ALTER TABLE SOURCE.CITELINE_ORGANIZATION.ORGANIZATION \n",
        "    SET CHANGE_TRACKING = TRUE;\n"
      ]
    },
    {
      "cell_type": "code",
      "execution_count": null,
      "metadata": {
        "vscode": {
          "languageId": "sql"
        }
      },
      "outputs": [],
      "source": [
        "-- Verify change tracking is enabled\n",
        "SHOW TABLES LIKE 'STUDYSITE' IN SOURCE.CLINTRAKSTUDYMANAGEMENT_CLINTRAKPROXY;\n"
      ]
    },
    {
      "cell_type": "markdown",
      "metadata": {},
      "source": [
        "**Expected Result:** The `CHANGE_TRACKING` column should show `ON` for all tables.\n"
      ]
    },
    {
      "cell_type": "code",
      "execution_count": null,
      "metadata": {
        "vscode": {
          "languageId": "sql"
        }
      },
      "outputs": [],
      "source": [
        "-- Create dedicated warehouse for Dynamic Table refreshes\n",
        "CREATE WAREHOUSE IF NOT EXISTS CLINOPS_TRANSFORM_WH\n",
        "    WAREHOUSE_SIZE = 'MEDIUM'           -- Adjust based on data volume\n",
        "    AUTO_SUSPEND = 60                   -- Suspend after 1 minute inactivity\n",
        "    AUTO_RESUME = TRUE                  -- Auto-resume when needed\n",
        "    INITIALLY_SUSPENDED = TRUE\n",
        "    COMMENT = 'Dedicated warehouse for inSitE Dynamic Table refreshes';\n",
        "\n",
        "-- Grant usage to appropriate role\n",
        "GRANT USAGE ON WAREHOUSE CLINOPS_TRANSFORM_WH TO ROLE FEASIBILITY_ROLE;\n"
      ]
    },
    {
      "cell_type": "markdown",
      "metadata": {},
      "source": [
        "---\n",
        "\n",
        "# Step 2: Create Dynamic Table for Site Metrics\n",
        "\n",
        "This Dynamic Table **replaces ~400 lines of R code** (lines 970-1100 in app.R) that currently:\n",
        "- Loads 3.5M organizationtrials rows + 500K hierarchy rows into R\n",
        "- Filters, joins, and aggregates in R memory\n",
        "- Takes 30-60 seconds per query\n",
        "\n",
        "## What This Dynamic Table Does\n",
        "\n",
        "1. **Aggregates site performance** by indication and therapeutic area\n",
        "2. **Calculates enrollment percentiles** from Medpace and Citeline data\n",
        "3. **Computes overall experience** and startup times\n",
        "4. **Auto-refreshes every hour** (`TARGET_LAG = '1 hour'`)\n",
        "5. **Uses incremental processing** (only processes changed rows)\n",
        "\n",
        "## Performance Impact\n",
        "\n",
        "- **Query time:** <1 second (vs 30-60 seconds in R)\n",
        "- **Data transfer:** <1 MB (vs 730 MB in R)\n",
        "- **Memory:** Pre-computed (vs 2-3 GB in R)\n",
        "\n",
        "## Parameters Explained\n",
        "\n",
        "- **`TARGET_LAG = '1 hour'`** - Refresh within 1 hour of source data changes\n",
        "- **`REFRESH_MODE = 'INCREMENTAL'`** - Only process changed rows (cost efficient)\n",
        "- **`WAREHOUSE = CLINOPS_TRANSFORM_WH`** - Use dedicated warehouse for refreshes\n"
      ]
    },
    {
      "cell_type": "code",
      "execution_count": null,
      "metadata": {
        "vscode": {
          "languageId": "sql"
        }
      },
      "outputs": [],
      "source": [
        "CREATE OR REPLACE DYNAMIC TABLE site_metrics_base\n",
        "    TARGET_LAG = '1 hour'                     -- Refresh within 1 hour\n",
        "    WAREHOUSE = CLINOPS_TRANSFORM_WH         -- Dedicated warehouse\n",
        "    REFRESH_MODE = 'INCREMENTAL'             -- Only process changes\n",
        "    COMMENT = 'Pre-aggregated site performance metrics for inSitE app'\n",
        "AS\n",
        "WITH \n",
        "-- Medpace indication-level metrics\n",
        "indication_medp AS (\n",
        "    SELECT \n",
        "        COALESCE(s.FINAL_NAME, ss.CENTER_NAME) as FINAL_NAME,\n",
        "        ss.ISO,\n",
        "        si.INDICATION,\n",
        "        COUNT(DISTINCT ss.STUDYID) as studies,\n",
        "        ROUND(AVG(sm.STUDY_PERCENTILE) * 100, 0) as percentile\n",
        "    FROM SOURCE.CLINTRAKSTUDYMANAGEMENT_CLINTRAKPROXY.STUDYSITE ss\n",
        "    LEFT JOIN SOURCE.CLINTRAKSTUDYMANAGEMENT_CLINTRAKPROXY.SITE s \n",
        "        ON ss.SITEID = s.SITEID\n",
        "    LEFT JOIN SOURCE.CLINTRAKSTUDYMANAGEMENT_CLINTRAKPROXY.STUDYSITEMETRICSCALCULATED sm\n",
        "        ON ss.STUDYID = sm.STUDYID AND ss.SITEID = sm.SITEID\n",
        "    INNER JOIN SOURCE.CLINTRAKSTUDYMANAGEMENT_CLINTRAKPROXY.STUDYINDICATION si\n",
        "        ON ss.STUDYID = si.STUDYID\n",
        "    WHERE ss.ACTIVATIONDATE IS NOT NULL\n",
        "    GROUP BY 1, 2, 3\n",
        "),\n",
        "\n",
        "-- Citeline indication-level metrics\n",
        "indication_citeline AS (\n",
        "    SELECT \n",
        "        COALESCE(org.ORGANIZATION_NAME, ot.ORGANIZATIONID) as FINAL_NAME,\n",
        "        org.COUNTRY_ISO as ISO,\n",
        "        si.INDICATION,\n",
        "        COUNT(DISTINCT ot.TRIALID) as studies\n",
        "    FROM SOURCE.CITELINE_ORGANIZATIONTRIAL.ORGANIZATIONTRIALS ot\n",
        "    LEFT JOIN SOURCE.CITELINE_ORGANIZATION.ORGANIZATION org\n",
        "        ON ot.ORGANIZATIONID = org.ORGANIZATION_ID\n",
        "    LEFT JOIN SOURCE.CLINTRAKSTUDYMANAGEMENT_CLINTRAKPROXY.STUDYINDICATION si\n",
        "        ON TRY_CAST(REPLACE(si.STUDYCODE, 'CL-', '') AS INTEGER) = TRY_CAST(ot.TRIALID AS INTEGER)\n",
        "    WHERE org.COUNTRY_ISO IS NOT NULL\n",
        "    GROUP BY 1, 2, 3\n",
        "),\n",
        "\n",
        "-- Therapeutic area metrics (Medpace)\n",
        "therapeutic_medp AS (\n",
        "    SELECT \n",
        "        COALESCE(s.FINAL_NAME, ss.CENTER_NAME) as FINAL_NAME,\n",
        "        ss.ISO,\n",
        "        i.THERAPEUTIC_CATEGORY as THERAPEUTIC,\n",
        "        COUNT(DISTINCT ss.STUDYID) as studies,\n",
        "        ROUND(AVG(sm.STUDY_PERCENTILE) * 100, 0) as percentile\n",
        "    FROM SOURCE.CLINTRAKSTUDYMANAGEMENT_CLINTRAKPROXY.STUDYSITE ss\n",
        "    LEFT JOIN SOURCE.CLINTRAKSTUDYMANAGEMENT_CLINTRAKPROXY.SITE s \n",
        "        ON ss.SITEID = s.SITEID\n",
        "    LEFT JOIN SOURCE.CLINTRAKSTUDYMANAGEMENT_CLINTRAKPROXY.STUDYSITEMETRICSCALCULATED sm\n",
        "        ON ss.STUDYID = sm.STUDYID AND ss.SITEID = sm.SITEID\n",
        "    INNER JOIN SOURCE.INTRANETPROJECTMANAGEMENT_INTRANETPROXY.INDICATION i\n",
        "        ON ss.STUDYID = i.STUDYID\n",
        "    WHERE ss.ACTIVATIONDATE IS NOT NULL\n",
        "    GROUP BY 1, 2, 3\n",
        "),\n",
        "\n",
        "-- Overall Medpace experience\n",
        "overall_medp AS (\n",
        "    SELECT \n",
        "        COALESCE(s.FINAL_NAME, ss.CENTER_NAME) as FINAL_NAME,\n",
        "        ss.ISO,\n",
        "        COUNT(DISTINCT ss.STUDYID) as total_studies,\n",
        "        ROUND(AVG(sm.STUDY_PERCENTILE) * 100, 0) as avg_percentile,\n",
        "        YEAR(CURRENT_DATE()) - MIN(YEAR(ss.ACTIVATIONDATE::DATE)) as years_active\n",
        "    FROM SOURCE.CLINTRAKSTUDYMANAGEMENT_CLINTRAKPROXY.STUDYSITE ss\n",
        "    LEFT JOIN SOURCE.CLINTRAKSTUDYMANAGEMENT_CLINTRAKPROXY.SITE s \n",
        "        ON ss.SITEID = s.SITEID\n",
        "    LEFT JOIN SOURCE.CLINTRAKSTUDYMANAGEMENT_CLINTRAKPROXY.STUDYSITEMETRICSCALCULATED sm\n",
        "        ON ss.STUDYID = sm.STUDYID AND ss.SITEID = sm.SITEID\n",
        "    WHERE ss.ACTIVATIONDATE IS NOT NULL\n",
        "    GROUP BY 1, 2\n",
        "),\n",
        "\n",
        "-- Startup metrics (last 3 years only)\n",
        "startup_metrics AS (\n",
        "    SELECT \n",
        "        COALESCE(s.FINAL_NAME, ss.CENTER_NAME) as FINAL_NAME,\n",
        "        ss.ISO,\n",
        "        PERCENTILE_CONT(0.25) WITHIN GROUP (ORDER BY sc.STARTUP_WEEKS) as startup_q1,\n",
        "        COUNT(*) as startup_count\n",
        "    FROM SOURCE.CLINTRAKSTUDYMANAGEMENT_CLINTRAKPROXY.STUDYSITE ss\n",
        "    LEFT JOIN SOURCE.CLINTRAKSTUDYMANAGEMENT_CLINTRAKPROXY.SITE s \n",
        "        ON ss.SITEID = s.SITEID\n",
        "    LEFT JOIN SOURCE.CLINTRAKSTUDYMANAGEMENT_CLINTRAKPROXY.STUDYCOUNTRYMILESTONES sc\n",
        "        ON ss.STUDYID = sc.STUDYID\n",
        "    WHERE YEAR(CURRENT_DATE()) - YEAR(ss.ACTIVATIONDATE::DATE) <= 3\n",
        "      AND sc.STARTUP_WEEKS >= 4\n",
        "      AND (sc.STARTUP_WEEKS <= 52 OR ss.ISO IN ('BRA', 'ROU'))\n",
        "    GROUP BY 1, 2\n",
        ")\n",
        "\n",
        "-- Final aggregated view\n",
        "SELECT \n",
        "    COALESCE(im.FINAL_NAME, tm.FINAL_NAME, om.FINAL_NAME) as FINAL_NAME,\n",
        "    COALESCE(im.ISO, tm.ISO, om.ISO) as ISO,\n",
        "    im.INDICATION,\n",
        "    im.studies as indication_studies_medpace,\n",
        "    im.percentile as indication_enr_percentile_medpace,\n",
        "    ic.studies as indication_studies_citeline,\n",
        "    tm.THERAPEUTIC,\n",
        "    tm.studies as therapeutic_studies_medpace,\n",
        "    tm.percentile as therapeutic_enr_percentile_medpace,\n",
        "    om.total_studies as medpace_total_studies,\n",
        "    om.avg_percentile as avg_percentile_all_trials,\n",
        "    om.years_active,\n",
        "    sm.startup_q1 as expected_startup_weeks,\n",
        "    sm.startup_count as startup_data_points,\n",
        "    CURRENT_TIMESTAMP() as last_refreshed\n",
        "FROM indication_medp im\n",
        "FULL OUTER JOIN indication_citeline ic \n",
        "    ON im.FINAL_NAME = ic.FINAL_NAME \n",
        "    AND im.ISO = ic.ISO \n",
        "    AND im.INDICATION = ic.INDICATION\n",
        "FULL OUTER JOIN therapeutic_medp tm \n",
        "    ON COALESCE(im.FINAL_NAME, ic.FINAL_NAME) = tm.FINAL_NAME \n",
        "    AND COALESCE(im.ISO, ic.ISO) = tm.ISO\n",
        "LEFT JOIN overall_medp om \n",
        "    ON COALESCE(im.FINAL_NAME, tm.FINAL_NAME) = om.FINAL_NAME \n",
        "    AND COALESCE(im.ISO, tm.ISO) = om.ISO\n",
        "LEFT JOIN startup_metrics sm \n",
        "    ON COALESCE(im.FINAL_NAME, tm.FINAL_NAME) = sm.FINAL_NAME \n",
        "    AND COALESCE(im.ISO, tm.ISO) = sm.ISO;\n"
      ]
    },
    {
      "cell_type": "markdown",
      "metadata": {},
      "source": [
        "## Test the Dynamic Table\n",
        "\n",
        "After creation, the table will **initialize** (first refresh). This may take a few minutes depending on data size.\n",
        "\n",
        "Let's verify it's working correctly:\n"
      ]
    },
    {
      "cell_type": "code",
      "execution_count": null,
      "metadata": {
        "vscode": {
          "languageId": "sql"
        }
      },
      "outputs": [],
      "source": [
        "-- Query the Dynamic Table (should return in <1 second)\n",
        "SELECT \n",
        "    FINAL_NAME,\n",
        "    ISO,\n",
        "    INDICATION,\n",
        "    indication_studies_medpace,\n",
        "    indication_enr_percentile_medpace,\n",
        "    medpace_total_studies\n",
        "FROM site_metrics_base\n",
        "WHERE ISO = 'USA' \n",
        "  AND INDICATION = 'Diabetes'\n",
        "LIMIT 10;\n"
      ]
    },
    {
      "cell_type": "code",
      "execution_count": null,
      "metadata": {
        "vscode": {
          "languageId": "sql"
        }
      },
      "outputs": [],
      "source": [
        "-- Check refresh status\n",
        "SELECT * \n",
        "FROM TABLE(INFORMATION_SCHEMA.DYNAMIC_TABLE_REFRESH_HISTORY('site_metrics_base'))\n",
        "ORDER BY refresh_start_time DESC \n",
        "LIMIT 5;\n"
      ]
    },
    {
      "cell_type": "code",
      "execution_count": null,
      "metadata": {
        "vscode": {
          "languageId": "sql"
        }
      },
      "outputs": [],
      "source": [
        "-- Verify target lag compliance\n",
        "SELECT \n",
        "    name,\n",
        "    scheduling_state,\n",
        "    target_lag,\n",
        "    data_timestamp,\n",
        "    refresh_mode\n",
        "FROM TABLE(INFORMATION_SCHEMA.DYNAMIC_TABLES())\n",
        "WHERE name = 'SITE_METRICS_BASE';\n"
      ]
    },
    {
      "cell_type": "markdown",
      "metadata": {},
      "source": [
        "**Expected Results:**\n",
        "- First query should return site data instantly\n",
        "- Refresh history should show successful initialization\n",
        "- Refresh mode should be `INCREMENTAL`\n",
        "- State should be `RUNNING`\n"
      ]
    },
    {
      "cell_type": "markdown",
      "metadata": {},
      "source": [
        "---\n",
        "\n",
        "# Step 3: Create SQL Functions for User-Specific Operations\n",
        "\n",
        "SQL Functions handle operations that **can't be pre-computed** because they depend on user input:\n",
        "- Custom Medpace study codes (entered in R app)\n",
        "- Custom Citeline trial IDs\n",
        "- Competing trial analysis\n",
        "\n",
        "These functions are called **on-demand** when user clicks buttons in the R app.\n"
      ]
    },
    {
      "cell_type": "markdown",
      "metadata": {},
      "source": [
        "## Function 1: Custom Medpace Benchmarking\n",
        "\n",
        "Called when user enters custom study codes in the \"Custom Medpace\" tab of the R app.\n"
      ]
    },
    {
      "cell_type": "code",
      "execution_count": null,
      "metadata": {
        "vscode": {
          "languageId": "sql"
        }
      },
      "outputs": [],
      "source": [
        "CREATE OR REPLACE FUNCTION get_custom_medpace_metrics(\n",
        "    custom_codes ARRAY,           -- Array of Medpace study codes\n",
        "    countries ARRAY               -- Array of ISO country codes\n",
        ")\n",
        "RETURNS TABLE (\n",
        "    FINAL_NAME VARCHAR,\n",
        "    ISO VARCHAR,\n",
        "    custom_studies INT,\n",
        "    custom_percentile INT\n",
        ")\n",
        "LANGUAGE SQL\n",
        "COMMENT = 'Returns metrics for user-specified Medpace study codes'\n",
        "AS\n",
        "$$\n",
        "    SELECT \n",
        "        COALESCE(s.FINAL_NAME, ss.CENTER_NAME) as FINAL_NAME,\n",
        "        ss.ISO,\n",
        "        COUNT(DISTINCT ss.STUDYID) as custom_studies,\n",
        "        ROUND(AVG(sm.STUDY_PERCENTILE) * 100, 0) as custom_percentile\n",
        "    FROM SOURCE.CLINTRAKSTUDYMANAGEMENT_CLINTRAKPROXY.STUDYSITE ss\n",
        "    LEFT JOIN SOURCE.CLINTRAKSTUDYMANAGEMENT_CLINTRAKPROXY.SITE s \n",
        "        ON ss.SITEID = s.SITEID\n",
        "    LEFT JOIN SOURCE.CLINTRAKSTUDYMANAGEMENT_CLINTRAKPROXY.STUDYSITEMETRICSCALCULATED sm\n",
        "        ON ss.STUDYID = sm.STUDYID AND ss.SITEID = sm.SITEID\n",
        "    WHERE ss.STUDYID = ANY(custom_codes)\n",
        "      AND ss.ISO = ANY(countries)\n",
        "    GROUP BY 1, 2\n",
        "$$;\n"
      ]
    },
    {
      "cell_type": "markdown",
      "metadata": {},
      "source": [
        "## Function 2: Custom Citeline Trials\n",
        "\n",
        "Handles user-entered Citeline trial IDs for external benchmarking.\n"
      ]
    },
    {
      "cell_type": "code",
      "execution_count": null,
      "metadata": {
        "vscode": {
          "languageId": "sql"
        }
      },
      "outputs": [],
      "source": [
        "CREATE OR REPLACE FUNCTION get_custom_citeline_metrics(\n",
        "    custom_trial_ids ARRAY,      -- Array of Citeline trial IDs\n",
        "    countries ARRAY               -- Array of ISO country codes\n",
        ")\n",
        "RETURNS TABLE (\n",
        "    FINAL_NAME VARCHAR,\n",
        "    ISO VARCHAR,\n",
        "    custom_citeline_studies INT\n",
        ")\n",
        "LANGUAGE SQL\n",
        "COMMENT = 'Returns metrics for user-specified Citeline trial IDs'\n",
        "AS\n",
        "$$\n",
        "    SELECT \n",
        "        COALESCE(org.ORGANIZATION_NAME, ot.ORGANIZATIONID) as FINAL_NAME,\n",
        "        org.COUNTRY_ISO as ISO,\n",
        "        COUNT(DISTINCT ot.TRIALID) as custom_citeline_studies\n",
        "    FROM SOURCE.CITELINE_ORGANIZATIONTRIAL.ORGANIZATIONTRIALS ot\n",
        "    LEFT JOIN SOURCE.CITELINE_ORGANIZATION.ORGANIZATION org\n",
        "        ON ot.ORGANIZATIONID = org.ORGANIZATION_ID\n",
        "    WHERE TRY_CAST(ot.TRIALID AS INTEGER) = ANY(custom_trial_ids)\n",
        "      AND org.COUNTRY_ISO = ANY(countries)\n",
        "    GROUP BY 1, 2\n",
        "$$;\n"
      ]
    },
    {
      "cell_type": "markdown",
      "metadata": {},
      "source": [
        "## Function 3: Competition Studies\n",
        "\n",
        "Identifies sites working on competing trials.\n"
      ]
    },
    {
      "cell_type": "code",
      "execution_count": null,
      "metadata": {
        "vscode": {
          "languageId": "sql"
        }
      },
      "outputs": [],
      "source": [
        "CREATE OR REPLACE FUNCTION get_competition_metrics(\n",
        "    competing_trial_ids ARRAY,   -- Array of competing Citeline trial IDs\n",
        "    countries ARRAY               -- Array of ISO country codes\n",
        ")\n",
        "RETURNS TABLE (\n",
        "    FINAL_NAME VARCHAR,\n",
        "    ISO VARCHAR,\n",
        "    competing_studies INT\n",
        ")\n",
        "LANGUAGE SQL\n",
        "COMMENT = 'Returns sites with competing trial experience'\n",
        "AS\n",
        "$$\n",
        "    SELECT \n",
        "        COALESCE(org.ORGANIZATION_NAME, ot.ORGANIZATIONID) as FINAL_NAME,\n",
        "        org.COUNTRY_ISO as ISO,\n",
        "        COUNT(DISTINCT ot.TRIALID) as competing_studies\n",
        "    FROM SOURCE.CITELINE_ORGANIZATIONTRIAL.ORGANIZATIONTRIALS ot\n",
        "    LEFT JOIN SOURCE.CITELINE_ORGANIZATION.ORGANIZATION org\n",
        "        ON ot.ORGANIZATIONID = org.ORGANIZATION_ID\n",
        "    WHERE TRY_CAST(ot.TRIALID AS INTEGER) = ANY(competing_trial_ids)\n",
        "      AND org.COUNTRY_ISO = ANY(countries)\n",
        "    GROUP BY 1, 2\n",
        "$$;\n"
      ]
    },
    {
      "cell_type": "markdown",
      "metadata": {},
      "source": [
        "## Test the SQL Functions\n",
        "\n",
        "Let's verify the functions work correctly (replace with actual study IDs from your data):\n"
      ]
    },
    {
      "cell_type": "code",
      "execution_count": null,
      "metadata": {
        "vscode": {
          "languageId": "sql"
        }
      },
      "outputs": [],
      "source": [
        "-- Test custom Medpace metrics (replace with real study codes)\n",
        "SELECT * FROM TABLE(get_custom_medpace_metrics(\n",
        "    ARRAY_CONSTRUCT('STUDY001', 'STUDY002', 'STUDY003'),\n",
        "    ARRAY_CONSTRUCT('USA', 'GBR', 'DEU')\n",
        ")) LIMIT 10;\n"
      ]
    },
    {
      "cell_type": "code",
      "execution_count": null,
      "metadata": {
        "vscode": {
          "languageId": "sql"
        }
      },
      "outputs": [],
      "source": [
        "-- Test custom Citeline metrics (replace with real trial IDs)\n",
        "SELECT * FROM TABLE(get_custom_citeline_metrics(\n",
        "    ARRAY_CONSTRUCT(12345, 12346, 12347),\n",
        "    ARRAY_CONSTRUCT('USA', 'CAN')\n",
        ")) LIMIT 10;\n"
      ]
    },
    {
      "cell_type": "markdown",
      "metadata": {},
      "source": [
        "---\n",
        "\n",
        "# Step 4: Create Stored Procedure for Monte Carlo Simulation\n",
        "\n",
        "This stored procedure **replaces the sequential R loop** (lines 3579-3605 in app.R) that:\n",
        "- Takes **2-5 minutes** to run 10,000 iterations sequentially\n",
        "- Creates 432 million data points in nested loops\n",
        "- Consumes 1-2 GB of memory\n",
        "\n",
        "## What This Procedure Does\n",
        "\n",
        "Uses Snowflake's **`GENERATOR`** function for **parallel random sampling**:\n",
        "- Runs 10,000 simulations in **parallel** across warehouse nodes\n",
        "- Completes in **5-10 seconds** (20-30x faster)\n",
        "- Processes all data in Snowflake (no data movement)\n",
        "\n",
        "## How It Works\n",
        "\n",
        "1. **Generate weeks** (0-866 weeks = ~200 months)\n",
        "2. **Generate simulation IDs** (10,000 iterations)\n",
        "3. **Sample enrollment rates** for each site/week/simulation\n",
        "4. **Calculate cumulative enrollment** per simulation\n",
        "5. **Find week when goal reached** for each simulation\n"
      ]
    },
    {
      "cell_type": "code",
      "execution_count": null,
      "metadata": {
        "vscode": {
          "languageId": "sql"
        }
      },
      "outputs": [],
      "source": [
        "CREATE OR REPLACE PROCEDURE simulate_enrollment(\n",
        "    site_params_table VARCHAR,    -- Temp table with site parameters\n",
        "    goal INTEGER,                  -- Target enrollment number\n",
        "    iterations INTEGER             -- Number of simulations\n",
        ")\n",
        "RETURNS TABLE (iteration INT, weeks_to_goal INT)\n",
        "LANGUAGE SQL\n",
        "COMMENT = 'Monte Carlo simulation using parallel processing'\n",
        "AS\n",
        "$$\n",
        "DECLARE\n",
        "    result_table VARCHAR;\n",
        "BEGIN\n",
        "    result_table := 'ENROLLMENT_SIMULATION_RESULTS_' || \n",
        "                    TO_VARCHAR(CURRENT_TIMESTAMP(), 'YYYYMMDD_HH24MISS');\n",
        "    \n",
        "    -- Run parallel Monte Carlo simulation\n",
        "    CREATE TEMPORARY TABLE IDENTIFIER(:result_table) AS\n",
        "    WITH \n",
        "    weeks AS (\n",
        "        SELECT SEQ4() as week \n",
        "        FROM TABLE(GENERATOR(ROWCOUNT => 866))  -- 200 months of weeks\n",
        "    ),\n",
        "    simulations AS (\n",
        "        SELECT SEQ4() as sim_id \n",
        "        FROM TABLE(GENERATOR(ROWCOUNT => :iterations))\n",
        "    ),\n",
        "    site_samples AS (\n",
        "        SELECT \n",
        "            s.sim_id,\n",
        "            w.week,\n",
        "            p.site_id,\n",
        "            -- Random PSM for this simulation\n",
        "            UNIFORM(p.min_psm, p.max_psm, RANDOM()) as weekly_psm,\n",
        "            -- Random startup week\n",
        "            UNIFORM(p.startup_early, p.startup_late, RANDOM())::INT as startup_week\n",
        "        FROM simulations s\n",
        "        CROSS JOIN weeks w\n",
        "        CROSS JOIN IDENTIFIER(:site_params_table) p\n",
        "    ),\n",
        "    weekly_enrollment AS (\n",
        "        SELECT \n",
        "            sim_id,\n",
        "            week,\n",
        "            SUM(\n",
        "                CASE \n",
        "                    WHEN week >= startup_week THEN weekly_psm * (52/12)\n",
        "                    ELSE 0 \n",
        "                END\n",
        "            ) as weekly_total\n",
        "        FROM site_samples\n",
        "        GROUP BY sim_id, week\n",
        "    ),\n",
        "    cumulative_enrollment AS (\n",
        "        SELECT \n",
        "            sim_id,\n",
        "            week,\n",
        "            SUM(weekly_total) OVER (\n",
        "                PARTITION BY sim_id \n",
        "                ORDER BY week\n",
        "            ) as cumulative_patients\n",
        "        FROM weekly_enrollment\n",
        "    ),\n",
        "    goal_reached AS (\n",
        "        SELECT \n",
        "            sim_id,\n",
        "            MIN(week) as weeks_to_goal\n",
        "        FROM cumulative_enrollment\n",
        "        WHERE cumulative_patients >= :goal\n",
        "        GROUP BY sim_id\n",
        "    )\n",
        "    SELECT \n",
        "        sim_id as iteration,\n",
        "        weeks_to_goal\n",
        "    FROM goal_reached\n",
        "    ORDER BY iteration;\n",
        "    \n",
        "    RETURN TABLE(SELECT * FROM IDENTIFIER(:result_table));\n",
        "END;\n",
        "$$;\n"
      ]
    },
    {
      "cell_type": "markdown",
      "metadata": {},
      "source": [
        "## Test Monte Carlo Simulation\n",
        "\n",
        "Let's test with example site parameters:\n"
      ]
    },
    {
      "cell_type": "code",
      "execution_count": null,
      "metadata": {
        "vscode": {
          "languageId": "sql"
        }
      },
      "outputs": [],
      "source": [
        "-- Create example site parameters table\n",
        "CREATE OR REPLACE TEMPORARY TABLE site_params_for_simulation AS\n",
        "SELECT 'Site_001' as site_id, 'Memorial Hospital' as site_name,\n",
        "       0.5 as min_psm, 2.0 as max_psm, 8 as startup_early, 16 as startup_late\n",
        "UNION ALL\n",
        "SELECT 'Site_002', 'University Medical Center', 0.8, 2.5, 10, 20\n",
        "UNION ALL\n",
        "SELECT 'Site_003', 'Regional Cancer Center', 0.3, 1.5, 12, 24\n",
        "UNION ALL\n",
        "SELECT 'Site_004', 'City General Hospital', 0.6, 2.2, 8, 18\n",
        "UNION ALL\n",
        "SELECT 'Site_005', 'Academic Medical Center', 1.0, 3.0, 6, 12;\n"
      ]
    },
    {
      "cell_type": "code",
      "execution_count": null,
      "metadata": {
        "vscode": {
          "languageId": "sql"
        }
      },
      "outputs": [],
      "source": [
        "-- Run simulation (10,000 iterations, target 100 patients)\n",
        "CALL simulate_enrollment('site_params_for_simulation', 100, 10000);\n"
      ]
    },
    {
      "cell_type": "code",
      "execution_count": null,
      "metadata": {
        "vscode": {
          "languageId": "sql"
        }
      },
      "outputs": [],
      "source": [
        "-- Analyze results\n",
        "WITH sim_results AS (\n",
        "    SELECT * FROM TABLE(RESULT_SCAN(LAST_QUERY_ID()))\n",
        ")\n",
        "SELECT \n",
        "    PERCENTILE_CONT(0.25) WITHIN GROUP (ORDER BY weeks_to_goal) as q1_weeks,\n",
        "    PERCENTILE_CONT(0.50) WITHIN GROUP (ORDER BY weeks_to_goal) as median_weeks,\n",
        "    PERCENTILE_CONT(0.75) WITHIN GROUP (ORDER BY weeks_to_goal) as q3_weeks,\n",
        "    MIN(weeks_to_goal) as min_weeks,\n",
        "    MAX(weeks_to_goal) as max_weeks,\n",
        "    COUNT(*) as total_simulations\n",
        "FROM sim_results;\n"
      ]
    },
    {
      "cell_type": "markdown",
      "metadata": {},
      "source": [
        "**Expected Results:**\n",
        "- Should complete in 5-10 seconds\n",
        "- Returns percentiles for enrollment timeline\n",
        "- All 10,000 simulations processed in parallel\n"
      ]
    },
    {
      "cell_type": "markdown",
      "metadata": {},
      "source": [
        "---\n",
        "\n",
        "# Step 5: Monitoring and Optimization\n",
        "\n",
        "Use these queries to monitor Dynamic Table performance and costs.\n"
      ]
    },
    {
      "cell_type": "markdown",
      "metadata": {},
      "source": [
        "## Monitor Refresh History\n"
      ]
    },
    {
      "cell_type": "code",
      "execution_count": null,
      "metadata": {
        "vscode": {
          "languageId": "sql"
        }
      },
      "outputs": [],
      "source": [
        "-- Recent refresh history\n",
        "SELECT \n",
        "    refresh_start_time,\n",
        "    state,\n",
        "    refresh_action,\n",
        "    DATEDIFF('second', refresh_start_time, refresh_end_time) as duration_seconds,\n",
        "    credits_used,\n",
        "    CASE \n",
        "        WHEN state = 'SUCCEEDED' THEN '✓ Success'\n",
        "        WHEN state = 'FAILED' THEN '✗ Failed'\n",
        "        ELSE state\n",
        "    END as status\n",
        "FROM TABLE(INFORMATION_SCHEMA.DYNAMIC_TABLE_REFRESH_HISTORY('site_metrics_base'))\n",
        "ORDER BY refresh_start_time DESC\n",
        "LIMIT 20;\n"
      ]
    },
    {
      "cell_type": "markdown",
      "metadata": {},
      "source": [
        "## Check Cost Over Last 7 Days\n"
      ]
    },
    {
      "cell_type": "code",
      "execution_count": null,
      "metadata": {
        "vscode": {
          "languageId": "sql"
        }
      },
      "outputs": [],
      "source": [
        "-- Refresh performance over last 7 days\n",
        "SELECT \n",
        "    DATE_TRUNC('day', refresh_start_time) as refresh_date,\n",
        "    COUNT(*) as num_refreshes,\n",
        "    AVG(DATEDIFF('second', refresh_start_time, refresh_end_time)) as avg_duration_sec,\n",
        "    SUM(credits_used) as total_credits,\n",
        "    AVG(credits_used) as avg_credits_per_refresh\n",
        "FROM TABLE(INFORMATION_SCHEMA.DYNAMIC_TABLE_REFRESH_HISTORY('site_metrics_base'))\n",
        "WHERE refresh_start_time >= DATEADD('day', -7, CURRENT_TIMESTAMP())\n",
        "  AND state = 'SUCCEEDED'\n",
        "GROUP BY 1\n",
        "ORDER BY 1 DESC;\n"
      ]
    },
    {
      "cell_type": "markdown",
      "metadata": {},
      "source": [
        "## Verify Target Lag Compliance\n"
      ]
    },
    {
      "cell_type": "code",
      "execution_count": null,
      "metadata": {
        "vscode": {
          "languageId": "sql"
        }
      },
      "outputs": [],
      "source": [
        "SELECT \n",
        "    name as table_name,\n",
        "    scheduling_state,\n",
        "    target_lag,\n",
        "    data_timestamp,\n",
        "    refresh_mode,\n",
        "    last_refresh_start_time,\n",
        "    last_refresh_end_time\n",
        "FROM TABLE(INFORMATION_SCHEMA.DYNAMIC_TABLES())\n",
        "WHERE name = 'SITE_METRICS_BASE';\n"
      ]
    },
    {
      "cell_type": "markdown",
      "metadata": {},
      "source": [
        "---\n",
        "\n",
        "# Step 6: Set Up Cost Controls\n",
        "\n",
        "Create resource monitor to prevent runaway costs from Dynamic Table refreshes.\n"
      ]
    },
    {
      "cell_type": "code",
      "execution_count": null,
      "metadata": {
        "vscode": {
          "languageId": "sql"
        }
      },
      "outputs": [],
      "source": [
        "-- Create resource monitor\n",
        "CREATE RESOURCE MONITOR IF NOT EXISTS dynamic_table_monitor\n",
        "    WITH CREDIT_QUOTA = 500                  -- 500 credits per month\n",
        "    FREQUENCY = MONTHLY\n",
        "    START_TIMESTAMP = IMMEDIATELY\n",
        "    TRIGGERS \n",
        "        ON 75 PERCENT DO NOTIFY              -- Alert at 75%\n",
        "        ON 90 PERCENT DO SUSPEND             -- Suspend at 90%\n",
        "        ON 100 PERCENT DO SUSPEND_IMMEDIATE; -- Immediate suspend at 100%\n",
        "\n",
        "-- Apply to Dynamic Table warehouse\n",
        "ALTER WAREHOUSE CLINOPS_TRANSFORM_WH \n",
        "    SET RESOURCE_MONITOR = dynamic_table_monitor;\n"
      ]
    },
    {
      "cell_type": "markdown",
      "metadata": {},
      "source": [
        "---\n",
        "\n",
        "# Step 7: Grant Permissions\n",
        "\n",
        "Grant access to roles that will use these objects from the R application.\n"
      ]
    },
    {
      "cell_type": "code",
      "execution_count": null,
      "metadata": {
        "vscode": {
          "languageId": "sql"
        }
      },
      "outputs": [],
      "source": [
        "-- Grant select on Dynamic Table\n",
        "GRANT SELECT ON DYNAMIC TABLE site_metrics_base TO ROLE FEASIBILITY_ROLE;\n",
        "\n",
        "-- Grant usage on functions\n",
        "GRANT USAGE ON FUNCTION get_custom_medpace_metrics(ARRAY, ARRAY) \n",
        "    TO ROLE FEASIBILITY_ROLE;\n",
        "GRANT USAGE ON FUNCTION get_custom_citeline_metrics(ARRAY, ARRAY) \n",
        "    TO ROLE FEASIBILITY_ROLE;\n",
        "GRANT USAGE ON FUNCTION get_competition_metrics(ARRAY, ARRAY) \n",
        "    TO ROLE FEASIBILITY_ROLE;\n",
        "\n",
        "-- Grant execute on stored procedure\n",
        "GRANT USAGE ON PROCEDURE simulate_enrollment(VARCHAR, INTEGER, INTEGER) \n",
        "    TO ROLE FEASIBILITY_ROLE;\n",
        "\n",
        "-- Grant warehouse usage\n",
        "GRANT USAGE ON WAREHOUSE CLINOPS_ADHOC TO ROLE FEASIBILITY_ROLE;\n"
      ]
    },
    {
      "cell_type": "markdown",
      "metadata": {},
      "source": [
        "---\n",
        "\n",
        "# Step 8: Adjusting TARGET_LAG (Optional)\n",
        "\n",
        "Based on monitoring, you may want to adjust the refresh frequency.\n",
        "\n",
        "## When to Adjust TARGET_LAG\n",
        "\n",
        "**Increase TARGET_LAG if:**\n",
        "- Actual lag consistently **much less** than target (over-refreshing)\n",
        "- Refresh costs are too high\n",
        "- Data doesn't need to be that fresh\n",
        "\n",
        "**Decrease TARGET_LAG if:**\n",
        "- Users need fresher data\n",
        "- Actual lag consistently **exceeds** target\n",
        "\n",
        "**Increase warehouse size if:**\n",
        "- Refreshes are too slow\n",
        "- Actual lag exceeds target even with higher TARGET_LAG\n"
      ]
    },
    {
      "cell_type": "code",
      "execution_count": null,
      "metadata": {
        "vscode": {
          "languageId": "sql"
        }
      },
      "outputs": [],
      "source": [
        "-- Example: Increase TARGET_LAG to reduce refresh frequency\n",
        "-- ALTER DYNAMIC TABLE site_metrics_base SET TARGET_LAG = '2 hours';\n",
        "\n",
        "-- Example: Decrease TARGET_LAG for fresher data\n",
        "-- ALTER DYNAMIC TABLE site_metrics_base SET TARGET_LAG = '30 minutes';\n",
        "\n",
        "-- Example: Increase warehouse size for faster refreshes\n",
        "-- ALTER WAREHOUSE CLINOPS_TRANSFORM_WH SET WAREHOUSE_SIZE = 'LARGE';\n"
      ]
    },
    {
      "cell_type": "markdown",
      "metadata": {},
      "source": [
        "---\n",
        "\n",
        "# 🎉 Implementation Complete!\n",
        "\n",
        "You've successfully created:\n",
        "\n",
        "✅ **Dynamic Table** (`site_metrics_base`) - Pre-computed metrics refreshing hourly  \n",
        "✅ **SQL Functions** (3) - User-specific filtering  \n",
        "✅ **Stored Procedure** - Monte Carlo simulation  \n",
        "✅ **Resource Monitor** - Cost controls  \n",
        "✅ **Permissions** - Access for R application  \n",
        "\n",
        "## Next Steps\n",
        "\n",
        "1. **Monitor refresh performance** using the queries in Step 5\n",
        "2. **Adjust TARGET_LAG** if needed based on actual vs target lag\n",
        "3. **Update R application** to query these new objects (see examples below)\n",
        "4. **Run parallel testing** comparing old R approach vs new Snowflake approach\n",
        "\n",
        "## R Integration Examples\n",
        "\n",
        "```r\n",
        "# Query Dynamic Table (replaces 400 lines of R code)\n",
        "build <- DBI::dbGetQuery(myconn, \"\n",
        "    SELECT * FROM site_metrics_base\n",
        "    WHERE ISO IN ('USA', 'DEU')\n",
        "      AND INDICATION = 'Diabetes'\n",
        "\")\n",
        "\n",
        "# Call SQL Function for custom codes\n",
        "custom_metrics <- DBI::dbGetQuery(myconn, \"\n",
        "    SELECT * FROM TABLE(get_custom_medpace_metrics(\n",
        "        ARRAY_CONSTRUCT('STUDY001', 'STUDY002'),\n",
        "        ARRAY_CONSTRUCT('USA', 'GBR')\n",
        "    ))\n",
        "\")\n",
        "\n",
        "# Call Monte Carlo Simulation\n",
        "result <- DBI::dbGetQuery(aiconn, \"\n",
        "    CALL simulate_enrollment('site_params_temp', 100, 10000)\n",
        "\")\n",
        "```\n",
        "\n",
        "---\n",
        "\n",
        "**Questions?** Contact Snowflake Solution Engineering team.\n"
      ]
    }
  ],
  "metadata": {
    "language_info": {
      "name": "python"
    }
  },
  "nbformat": 4,
  "nbformat_minor": 2
}
